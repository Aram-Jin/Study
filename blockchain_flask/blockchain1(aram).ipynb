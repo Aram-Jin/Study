{
 "cells": [
  {
   "cell_type": "code",
   "execution_count": 5,
   "id": "8251f545",
   "metadata": {},
   "outputs": [],
   "source": [
    "import hashlib"
   ]
  },
  {
   "cell_type": "code",
   "execution_count": null,
   "id": "7f2c32d8",
   "metadata": {},
   "outputs": [],
   "source": []
  },
  {
   "cell_type": "code",
   "execution_count": 7,
   "id": "d37543f6",
   "metadata": {},
   "outputs": [],
   "source": [
    "h = hashlib.sha256()   # hash알고리즘(sha256)은 일방향으로 복원이 현실적으로 불가능한 알고리즘"
   ]
  },
  {
   "cell_type": "code",
   "execution_count": 9,
   "id": "5bab89f6",
   "metadata": {},
   "outputs": [],
   "source": [
    "h.update(b'Genesis')  # 문자열을 입력시 binary형식으로 입력"
   ]
  },
  {
   "cell_type": "code",
   "execution_count": 10,
   "id": "ccea2536",
   "metadata": {},
   "outputs": [
    {
     "name": "stdout",
     "output_type": "stream",
     "text": [
      "81ddc8d248b2dccdd3fdd5e84f0cad62b08f2d10b57f9a831c13451e5c5c80a5\n"
     ]
    }
   ],
   "source": [
    "print(h.hexdigest())"
   ]
  },
  {
   "cell_type": "code",
   "execution_count": null,
   "id": "1c7e657d",
   "metadata": {},
   "outputs": [],
   "source": []
  },
  {
   "cell_type": "code",
   "execution_count": 7,
   "id": "1b1da232",
   "metadata": {},
   "outputs": [],
   "source": [
    "h = hashlib.sha256()"
   ]
  },
  {
   "cell_type": "code",
   "execution_count": 11,
   "id": "d94b4bac",
   "metadata": {},
   "outputs": [],
   "source": [
    "h.update(b'Genesiss')   # 입력값이 조금만 달라도 전혀 다른 hash값이 출력됨"
   ]
  },
  {
   "cell_type": "code",
   "execution_count": 12,
   "id": "bce2ab2b",
   "metadata": {},
   "outputs": [
    {
     "name": "stdout",
     "output_type": "stream",
     "text": [
      "92b046d301d2e1124aae087b9cd0e7abf5fdcbcfd13cc5e120cc0d629e3d2fb8\n"
     ]
    }
   ],
   "source": [
    "print(h.hexdigest())"
   ]
  },
  {
   "cell_type": "code",
   "execution_count": null,
   "id": "49f9f751",
   "metadata": {},
   "outputs": [],
   "source": []
  },
  {
   "cell_type": "code",
   "execution_count": 14,
   "id": "73b4cc6a",
   "metadata": {},
   "outputs": [],
   "source": [
    "h.update(b'Genesiss')   #asciii, 입력값이 조금만 달라도 전혀 다른 hash값이 출력됨"
   ]
  },
  {
   "cell_type": "code",
   "execution_count": 15,
   "id": "41121964",
   "metadata": {
    "scrolled": true
   },
   "outputs": [
    {
     "name": "stdout",
     "output_type": "stream",
     "text": [
      "c20c6d4b79060dcf3a7404c486033c2fdd391587f746d92bcfb912e4fa23276b\n"
     ]
    }
   ],
   "source": [
    "print(h.hexdigest())"
   ]
  },
  {
   "cell_type": "code",
   "execution_count": null,
   "id": "58734d1b",
   "metadata": {},
   "outputs": [],
   "source": []
  },
  {
   "cell_type": "code",
   "execution_count": 19,
   "id": "09f4a8ee",
   "metadata": {},
   "outputs": [
    {
     "name": "stdout",
     "output_type": "stream",
     "text": [
      "c4bdbcd05b887950748aca283044929f7a53df0f1c6a6d58fcc39ca155f7bbaf\n"
     ]
    }
   ],
   "source": [
    "h.update('Genesis'.encode())  #utf8\n",
    "print(h.hexdigest())"
   ]
  },
  {
   "cell_type": "code",
   "execution_count": null,
   "id": "49623360",
   "metadata": {},
   "outputs": [],
   "source": []
  },
  {
   "cell_type": "code",
   "execution_count": 16,
   "id": "26d239c2",
   "metadata": {},
   "outputs": [],
   "source": [
    "str1 = '이름'\n",
    "str2 = '생년월일'"
   ]
  },
  {
   "cell_type": "code",
   "execution_count": 17,
   "id": "6e47816b",
   "metadata": {},
   "outputs": [
    {
     "data": {
      "text/plain": [
       "'253d1510caf5362045ce50b1bdc33758fc4b3fd6ddc552d8dc0619784bd9c7d1'"
      ]
     },
     "execution_count": 17,
     "metadata": {},
     "output_type": "execute_result"
    }
   ],
   "source": [
    "h = hashlib.sha256()\n",
    "h.update(str1.encode('utf8'))\n",
    "h.hexdigest()"
   ]
  },
  {
   "cell_type": "code",
   "execution_count": null,
   "id": "c85e8e05",
   "metadata": {},
   "outputs": [],
   "source": []
  },
  {
   "cell_type": "code",
   "execution_count": 29,
   "id": "60cb33c8",
   "metadata": {},
   "outputs": [],
   "source": [
    "# 헤시함수 직접 만들기\n",
    "\n",
    "def get_hashv(key):\n",
    "    hashv = 0\n",
    "    for char in key:\n",
    "#         print(ord(char))\n",
    "        hashv += ord(char)\n",
    "#         print(hashv)\n",
    "    hashv = hashv*3\n",
    "        \n",
    "    return hashv%10000    "
   ]
  },
  {
   "cell_type": "code",
   "execution_count": 30,
   "id": "01e7f91b",
   "metadata": {},
   "outputs": [
    {
     "data": {
      "text/plain": [
       "4059"
      ]
     },
     "execution_count": 30,
     "metadata": {},
     "output_type": "execute_result"
    }
   ],
   "source": [
    "get_hashv('python is fun!!')"
   ]
  },
  {
   "cell_type": "code",
   "execution_count": null,
   "id": "a9b29204",
   "metadata": {},
   "outputs": [],
   "source": []
  },
  {
   "cell_type": "code",
   "execution_count": 31,
   "id": "b99029ba",
   "metadata": {},
   "outputs": [],
   "source": [
    "# 해싱이란?\n",
    "# 원본 문자열을 알아볼 수 없는 난해한 문자열로 정의하는 방법으로 데이터의 변조의 유무를 확인하는 것이 주 목적이다."
   ]
  },
  {
   "cell_type": "code",
   "execution_count": null,
   "id": "84bf138f",
   "metadata": {},
   "outputs": [],
   "source": []
  },
  {
   "cell_type": "code",
   "execution_count": 32,
   "id": "c6191738",
   "metadata": {},
   "outputs": [],
   "source": [
    "#  예제\n",
    "\n",
    "# 입력한 비밀번호를 passwd.txt 파일에 저장하는 프로그램을 작성\n",
    "# 단 비밀번호는 해싱하여 저장해야 한다. 그리고 이미 저장된 비밀번호 파일이 있는 경우 \n",
    "# 기존 비밀번호를 입력받아서 비밀번호가 일치할 경우에 새로운 비밀번호를 저장하는 코드를 작성하시오."
   ]
  },
  {
   "cell_type": "code",
   "execution_count": 35,
   "id": "ef32bb31",
   "metadata": {},
   "outputs": [],
   "source": [
    "import hashlib\n",
    "import os\n",
    "\n",
    "def save_passwd():\n",
    "    with open('passwd.txt', 'w') as f:\n",
    "              passwd = input('패스워드를 입력하세요')\n",
    "              result = hashlib.sha256(passwd.encode())\n",
    "              f.write(result.hexdigest())"
   ]
  },
  {
   "cell_type": "code",
   "execution_count": 36,
   "id": "9d3cb65e",
   "metadata": {},
   "outputs": [
    {
     "name": "stdout",
     "output_type": "stream",
     "text": [
      "패스워드를 입력하세요1234\n"
     ]
    }
   ],
   "source": [
    "save_passwd()"
   ]
  },
  {
   "cell_type": "code",
   "execution_count": 37,
   "id": "93913c26",
   "metadata": {},
   "outputs": [
    {
     "data": {
      "text/plain": [
       "'C:\\\\Users\\\\bitcamp'"
      ]
     },
     "execution_count": 37,
     "metadata": {},
     "output_type": "execute_result"
    }
   ],
   "source": [
    "pwd"
   ]
  },
  {
   "cell_type": "code",
   "execution_count": null,
   "id": "568133c8",
   "metadata": {},
   "outputs": [],
   "source": []
  },
  {
   "cell_type": "code",
   "execution_count": 38,
   "id": "0e6e889d",
   "metadata": {},
   "outputs": [],
   "source": [
    "def check_passwd():\n",
    "    if os.path.exists('passwd.txt'):\n",
    "        before_passwd = input('기존의 비밀번호를 입력하세요')\n",
    "        m = hashlib.sha256()\n",
    "        m.update(before_passwd.encode('utf-8'))\n",
    "        with open('passwd.txt','r') as f:\n",
    "            comp = str(m.hexdigest()).strip() == str(f.read()).strip()\n",
    "            return comp\n",
    "    else:\n",
    "        return True"
   ]
  },
  {
   "cell_type": "code",
   "execution_count": 41,
   "id": "bbcdc1a8",
   "metadata": {},
   "outputs": [
    {
     "name": "stdout",
     "output_type": "stream",
     "text": [
      "기존의 비밀번호를 입력하세요1234\n"
     ]
    },
    {
     "data": {
      "text/plain": [
       "True"
      ]
     },
     "execution_count": 41,
     "metadata": {},
     "output_type": "execute_result"
    }
   ],
   "source": [
    "check_passwd()"
   ]
  },
  {
   "cell_type": "code",
   "execution_count": null,
   "id": "bc49280b",
   "metadata": {},
   "outputs": [],
   "source": []
  },
  {
   "cell_type": "code",
   "execution_count": 42,
   "id": "201a84b6",
   "metadata": {},
   "outputs": [],
   "source": [
    "def change_passwd():\n",
    "    if check_passwd():\n",
    "        with open('passwd.txt', 'w') as f:\n",
    "            passwd = input('새로운 비밀번호를 입력하세요')\n",
    "            result = hashlib.sha256(passwd.encode())\n",
    "            f.write(result.hexdigest())\n",
    "    else:\n",
    "        print('비밀번호가 틀립니다')"
   ]
  },
  {
   "cell_type": "code",
   "execution_count": 43,
   "id": "9dbb17a3",
   "metadata": {
    "scrolled": false
   },
   "outputs": [
    {
     "name": "stdout",
     "output_type": "stream",
     "text": [
      "기존의 비밀번호를 입력하세요1234\n",
      "새로운 비밀번호를 입력하세요2345\n"
     ]
    }
   ],
   "source": [
    "change_passwd()"
   ]
  },
  {
   "cell_type": "code",
   "execution_count": null,
   "id": "01251d4d",
   "metadata": {},
   "outputs": [],
   "source": []
  },
  {
   "cell_type": "code",
   "execution_count": 44,
   "id": "fc8779bb",
   "metadata": {},
   "outputs": [],
   "source": [
    "#  채굴 (minning)\n",
    "#  특정한 조건을 만족하는 hash값을 찾는 연산을 반복하는 것 \n",
    "#  채굴에 성공한 경우에만 블록이 체인에 연결이 됨\n",
    "#  채굴에 성공하면 보상으로 코인을 받는다"
   ]
  },
  {
   "cell_type": "code",
   "execution_count": 53,
   "id": "4e24767b",
   "metadata": {},
   "outputs": [
    {
     "name": "stdout",
     "output_type": "stream",
     "text": [
      "Hash : 0000003a19b0bb7e3c09bbd513b5fb1f4ec78508872e832923f3150adf926fc1\n",
      "Nounce : 7054942\n",
      "Minning took 13.437633275985718s!\n"
     ]
    }
   ],
   "source": [
    "from hashlib import sha256\n",
    "import time\n",
    "\n",
    "max_nounce = int(1e10)\n",
    "difficulty = 6\n",
    "\n",
    "block_number =667761\n",
    "transactions = '''\n",
    "A -> B : 10\n",
    "D -> A :99\n",
    "C -> Z :1\n",
    "'''\n",
    "\n",
    "previous_hash = '81ddc8d248b2dccdd3fdd5e84f0cad62b08f2d10b57f9a831c13451e5c5c80a5'\n",
    "\n",
    "new_hash = None\n",
    "\n",
    "st_time = time.time()\n",
    "\n",
    "for nounce in range(max_nounce):\n",
    "    block = str(block_number) + transactions + previous_hash + str(nounce)   \n",
    "    new_hash = sha256(block.encode('ascii')).hexdigest()\n",
    "    \n",
    "    if new_hash.startswith('0'*difficulty):   #'00000'로 시작하는 여부\n",
    "        print(f'Hash : {new_hash}')\n",
    "        print(f'Nounce : {nounce}')\n",
    "        break\n",
    "        \n",
    "if new_hash is None:\n",
    "        print('cannot find new hash')\n",
    "        \n",
    "# print(new_hash)\n",
    "if new_hash is None:\n",
    "    print('cannot find new hash')\n",
    "    \n",
    "print(f'Minning took {time.time() -st_time}s!')\n",
    "              "
   ]
  },
  {
   "cell_type": "code",
   "execution_count": null,
   "id": "ad78e846",
   "metadata": {},
   "outputs": [],
   "source": []
  },
  {
   "cell_type": "code",
   "execution_count": null,
   "id": "cd351097",
   "metadata": {},
   "outputs": [],
   "source": [
    "# chain 구성\n",
    "#transaction > block > 채굴 > chain 추가"
   ]
  },
  {
   "cell_type": "code",
   "execution_count": 68,
   "id": "e43a7584",
   "metadata": {},
   "outputs": [],
   "source": [
    "t1 = '호준 -> 길동, 1코인'\n",
    "t2 = '길동 -> 춘향, 2코인'\n",
    "t3 = '춘향 -> 준호, 3코인'\n",
    "t4 = '호준 -> 길동, 1코인'\n",
    "t5 = '길동 -> 춘향, 2코인'\n",
    "t6 = '춘향 -> 준호, 3코인'"
   ]
  },
  {
   "cell_type": "code",
   "execution_count": 83,
   "id": "f046027c",
   "metadata": {},
   "outputs": [],
   "source": [
    "class bitCoin:\n",
    "    def __init__(self, 앞블록해쉬, 트랜젝션리스트):\n",
    "        self.앞블록해쉬 = 앞블록해쉬\n",
    "        self.트랜젝션리스트 = 트랜젝션리스트\n",
    "        self.블록 = '- 트랜젝션 :' + '\\n- 트랜젝션 : '.join(트랜젝션리스트) + \\\n",
    "        '\\n- 앞블록해쉬 :' + 앞블록해쉬\n",
    "        self.블록해쉬 = hashlib.sha256(self.블록.encode()).hexdigest()"
   ]
  },
  {
   "cell_type": "code",
   "execution_count": 84,
   "id": "7fb5bf39",
   "metadata": {
    "scrolled": false
   },
   "outputs": [],
   "source": [
    "블록1 = bitCoin('random_initial_text', [t1, t2])"
   ]
  },
  {
   "cell_type": "code",
   "execution_count": 85,
   "id": "cf8c39e4",
   "metadata": {},
   "outputs": [
    {
     "name": "stdout",
     "output_type": "stream",
     "text": [
      "- 트랜젝션 :호준 -> 길동, 1코인\n",
      "- 트랜젝션 : 길동 -> 춘향, 2코인\n",
      "- 앞블록해쉬 :random_initial_text\n"
     ]
    }
   ],
   "source": [
    "print(블록1.블록)"
   ]
  },
  {
   "cell_type": "code",
   "execution_count": 86,
   "id": "cf780e86",
   "metadata": {},
   "outputs": [
    {
     "data": {
      "text/plain": [
       "'de709b84486c8ddcc2dc19c2903a417084fc00a2ee1fc95630d38764685619f2'"
      ]
     },
     "execution_count": 86,
     "metadata": {},
     "output_type": "execute_result"
    }
   ],
   "source": [
    "블록1.블록해쉬"
   ]
  },
  {
   "cell_type": "code",
   "execution_count": 101,
   "id": "91053851",
   "metadata": {},
   "outputs": [],
   "source": [
    "블록2 = bitCoin(블록1.블록해쉬, [t3, t4])"
   ]
  },
  {
   "cell_type": "code",
   "execution_count": 106,
   "id": "10dd3172",
   "metadata": {
    "scrolled": true
   },
   "outputs": [
    {
     "name": "stdout",
     "output_type": "stream",
     "text": [
      "- 트랜젝션 :춘향 -> 준호, 3코인\n",
      "- 트랜젝션 : 호준 -> 길동, 1코인\n",
      "- 앞블록해쉬 :de709b84486c8ddcc2dc19c2903a417084fc00a2ee1fc95630d38764685619f2\n"
     ]
    }
   ],
   "source": [
    "print(블록2.블록)"
   ]
  },
  {
   "cell_type": "code",
   "execution_count": 107,
   "id": "391eab66",
   "metadata": {},
   "outputs": [
    {
     "data": {
      "text/plain": [
       "'4fed8b60cc472f801f609fa4c61da91d258f46973e21b3c7993695fad42f7576'"
      ]
     },
     "execution_count": 107,
     "metadata": {},
     "output_type": "execute_result"
    }
   ],
   "source": [
    "블록2.블록해쉬"
   ]
  },
  {
   "cell_type": "code",
   "execution_count": 108,
   "id": "0f539424",
   "metadata": {},
   "outputs": [],
   "source": [
    "블록3 = bitCoin(블록2.블록해쉬, [t5, t6])"
   ]
  },
  {
   "cell_type": "code",
   "execution_count": 109,
   "id": "7abac342",
   "metadata": {},
   "outputs": [
    {
     "name": "stdout",
     "output_type": "stream",
     "text": [
      "- 트랜젝션 :길동 -> 춘향, 2코인\n",
      "- 트랜젝션 : 춘향 -> 준호, 3코인\n",
      "- 앞블록해쉬 :4fed8b60cc472f801f609fa4c61da91d258f46973e21b3c7993695fad42f7576\n"
     ]
    }
   ],
   "source": [
    "print(블록3.블록)"
   ]
  },
  {
   "cell_type": "code",
   "execution_count": 110,
   "id": "d82fa263",
   "metadata": {},
   "outputs": [
    {
     "data": {
      "text/plain": [
       "'8fed17cd8ad25b614cb2999ac479665d4426e43200d7f9c21990d9bcba107837'"
      ]
     },
     "execution_count": 110,
     "metadata": {},
     "output_type": "execute_result"
    }
   ],
   "source": [
    "블록3.블록해쉬"
   ]
  },
  {
   "cell_type": "code",
   "execution_count": null,
   "id": "139959e2",
   "metadata": {},
   "outputs": [],
   "source": []
  },
  {
   "cell_type": "code",
   "execution_count": null,
   "id": "2a77b79c",
   "metadata": {},
   "outputs": [],
   "source": [
    "# 블록1.해쉬 = hash(hash(블록0) + 블록1.트랜젝션리스트)\n",
    "\n",
    "# 블록2 = 블록1.해쉬 + 블록2.트랜젝션리스트\n",
    "# 블록2.해쉬 = hash(블록2)\n",
    "\n",
    "# 블록3 = 블록2.해쉬 + 블록3.트랜젝션리스트\n",
    "# 블록3.해쉬 = hash(블록3)"
   ]
  },
  {
   "cell_type": "code",
   "execution_count": null,
   "id": "b3ba54a1",
   "metadata": {},
   "outputs": [],
   "source": []
  },
  {
   "cell_type": "code",
   "execution_count": null,
   "id": "081ee6c1",
   "metadata": {},
   "outputs": [],
   "source": []
  },
  {
   "cell_type": "code",
   "execution_count": null,
   "id": "92b8c77f",
   "metadata": {},
   "outputs": [],
   "source": []
  },
  {
   "cell_type": "code",
   "execution_count": null,
   "id": "82f56a4a",
   "metadata": {},
   "outputs": [],
   "source": []
  },
  {
   "cell_type": "code",
   "execution_count": 92,
   "id": "5d564fe0",
   "metadata": {},
   "outputs": [],
   "source": [
    "# 명함을 찍는 코드\n",
    "\n",
    "def print_business_card(name, email, address):\n",
    "\n",
    "    pint('*'*20)\n",
    "    print('Name : {}'.format(name)\n",
    "    print('Email : {}'.format(email)\n",
    "    print('Address : {}'.format(address))\n",
    "    print('*'*20)"
   ]
  },
  {
   "cell_type": "code",
   "execution_count": 95,
   "id": "09c4b5ee",
   "metadata": {},
   "outputs": [
    {
     "ename": "NameError",
     "evalue": "name 'pint' is not defined",
     "output_type": "error",
     "traceback": [
      "\u001b[1;31m---------------------------------------------------------------------------\u001b[0m",
      "\u001b[1;31mNameError\u001b[0m                                 Traceback (most recent call last)",
      "\u001b[1;32m~\\AppData\\Local\\Temp/ipykernel_1668/2502344726.py\u001b[0m in \u001b[0;36m<module>\u001b[1;34m\u001b[0m\n\u001b[1;32m----> 1\u001b[1;33m \u001b[0mprint_business_card\u001b[0m\u001b[1;33m(\u001b[0m\u001b[1;34m'jinaram'\u001b[0m\u001b[1;33m,\u001b[0m \u001b[1;34m'jinaram@gmail.com'\u001b[0m\u001b[1;33m,\u001b[0m \u001b[1;34m'Incheon'\u001b[0m\u001b[1;33m)\u001b[0m\u001b[1;33m\u001b[0m\u001b[1;33m\u001b[0m\u001b[0m\n\u001b[0m",
      "\u001b[1;32m~\\AppData\\Local\\Temp/ipykernel_1668/2162099800.py\u001b[0m in \u001b[0;36mprint_business_card\u001b[1;34m(name, email, address)\u001b[0m\n\u001b[0;32m      3\u001b[0m \u001b[1;32mdef\u001b[0m \u001b[0mprint_business_card\u001b[0m\u001b[1;33m(\u001b[0m\u001b[0mname\u001b[0m\u001b[1;33m,\u001b[0m \u001b[0memail\u001b[0m\u001b[1;33m,\u001b[0m \u001b[0maddress\u001b[0m\u001b[1;33m)\u001b[0m\u001b[1;33m:\u001b[0m\u001b[1;33m\u001b[0m\u001b[1;33m\u001b[0m\u001b[0m\n\u001b[0;32m      4\u001b[0m \u001b[1;33m\u001b[0m\u001b[0m\n\u001b[1;32m----> 5\u001b[1;33m     \u001b[0mpint\u001b[0m\u001b[1;33m(\u001b[0m\u001b[1;34m'*'\u001b[0m\u001b[1;33m*\u001b[0m\u001b[1;36m20\u001b[0m\u001b[1;33m)\u001b[0m\u001b[1;33m\u001b[0m\u001b[1;33m\u001b[0m\u001b[0m\n\u001b[0m\u001b[0;32m      6\u001b[0m     \u001b[0mprint\u001b[0m\u001b[1;33m(\u001b[0m\u001b[1;34m'Name : {}'\u001b[0m\u001b[1;33m.\u001b[0m\u001b[0mformat\u001b[0m\u001b[1;33m(\u001b[0m\u001b[1;34m'kimyuna'\u001b[0m\u001b[1;33m)\u001b[0m\u001b[1;33m)\u001b[0m\u001b[1;33m\u001b[0m\u001b[1;33m\u001b[0m\u001b[0m\n\u001b[0;32m      7\u001b[0m     \u001b[0mprint\u001b[0m\u001b[1;33m(\u001b[0m\u001b[1;34m'Email : {}'\u001b[0m\u001b[1;33m.\u001b[0m\u001b[0mformat\u001b[0m\u001b[1;33m(\u001b[0m\u001b[1;34m'kimyuna@gmail.com'\u001b[0m\u001b[1;33m)\u001b[0m\u001b[1;33m)\u001b[0m\u001b[1;33m\u001b[0m\u001b[1;33m\u001b[0m\u001b[0m\n",
      "\u001b[1;31mNameError\u001b[0m: name 'pint' is not defined"
     ]
    }
   ],
   "source": [
    "print_business_card('jinaram', 'jinaram@gmail.com', 'Incheon')"
   ]
  },
  {
   "cell_type": "code",
   "execution_count": 98,
   "id": "d356756d",
   "metadata": {},
   "outputs": [
    {
     "ename": "SyntaxError",
     "evalue": "invalid syntax (Temp/ipykernel_1668/1792051335.py, line 9)",
     "output_type": "error",
     "traceback": [
      "\u001b[1;36m  File \u001b[1;32m\"C:\\Users\\bitcamp\\AppData\\Local\\Temp/ipykernel_1668/1792051335.py\"\u001b[1;36m, line \u001b[1;32m9\u001b[0m\n\u001b[1;33m    print('Address : {}'.format(address))\u001b[0m\n\u001b[1;37m    ^\u001b[0m\n\u001b[1;31mSyntaxError\u001b[0m\u001b[1;31m:\u001b[0m invalid syntax\n"
     ]
    }
   ],
   "source": [
    "class BusinessCard:\n",
    "    def set_info(self, name, email, address)\n",
    "        self.name = name\n",
    "        self.email = email\n",
    "        self.address = address\n",
    "    def print_business_card(self):\n",
    "        pint('*'*20)\n",
    "        print('Name : {}'.format(self.name))\n",
    "        print('Email : {}'.format(self.email)\n",
    "        print('Address : {}'.format(self.address))\n",
    "        print('*'*20)"
   ]
  },
  {
   "cell_type": "code",
   "execution_count": 99,
   "id": "077077fa",
   "metadata": {},
   "outputs": [
    {
     "ename": "NameError",
     "evalue": "name 'BusinessCard' is not defined",
     "output_type": "error",
     "traceback": [
      "\u001b[1;31m---------------------------------------------------------------------------\u001b[0m",
      "\u001b[1;31mNameError\u001b[0m                                 Traceback (most recent call last)",
      "\u001b[1;32m~\\AppData\\Local\\Temp/ipykernel_1668/2198598189.py\u001b[0m in \u001b[0;36m<module>\u001b[1;34m\u001b[0m\n\u001b[1;32m----> 1\u001b[1;33m \u001b[0mbc\u001b[0m \u001b[1;33m=\u001b[0m \u001b[0mBusinessCard\u001b[0m\u001b[1;33m(\u001b[0m\u001b[1;33m)\u001b[0m\u001b[1;33m\u001b[0m\u001b[1;33m\u001b[0m\u001b[0m\n\u001b[0m",
      "\u001b[1;31mNameError\u001b[0m: name 'BusinessCard' is not defined"
     ]
    }
   ],
   "source": [
    "bc1 = BusinessCard()"
   ]
  },
  {
   "cell_type": "code",
   "execution_count": null,
   "id": "08c9b69c",
   "metadata": {},
   "outputs": [],
   "source": [
    "bc.set_info('kim', 'kim@gmail.com, 'seoul')  # 인스턴스변수 self.name, self.email, self.address의 값이 "
   ]
  },
  {
   "cell_type": "code",
   "execution_count": 100,
   "id": "3c467444",
   "metadata": {},
   "outputs": [
    {
     "ename": "NameError",
     "evalue": "name 'bc' is not defined",
     "output_type": "error",
     "traceback": [
      "\u001b[1;31m---------------------------------------------------------------------------\u001b[0m",
      "\u001b[1;31mNameError\u001b[0m                                 Traceback (most recent call last)",
      "\u001b[1;32m~\\AppData\\Local\\Temp/ipykernel_1668/3645748314.py\u001b[0m in \u001b[0;36m<module>\u001b[1;34m\u001b[0m\n\u001b[1;32m----> 1\u001b[1;33m \u001b[0mbc\u001b[0m\u001b[1;33m.\u001b[0m\u001b[0mprint_business_card\u001b[0m\u001b[1;33m(\u001b[0m\u001b[1;33m)\u001b[0m\u001b[1;33m\u001b[0m\u001b[1;33m\u001b[0m\u001b[0m\n\u001b[0m",
      "\u001b[1;31mNameError\u001b[0m: name 'bc' is not defined"
     ]
    }
   ],
   "source": [
    "bc1.print_business_card()"
   ]
  },
  {
   "cell_type": "code",
   "execution_count": null,
   "id": "125769aa",
   "metadata": {},
   "outputs": [],
   "source": []
  },
  {
   "cell_type": "code",
   "execution_count": null,
   "id": "9ffb60d1",
   "metadata": {},
   "outputs": [],
   "source": []
  },
  {
   "cell_type": "code",
   "execution_count": null,
   "id": "c58a90bc",
   "metadata": {},
   "outputs": [],
   "source": []
  }
 ],
 "metadata": {
  "kernelspec": {
   "display_name": "Python 3 (ipykernel)",
   "language": "python",
   "name": "python3"
  },
  "language_info": {
   "codemirror_mode": {
    "name": "ipython",
    "version": 3
   },
   "file_extension": ".py",
   "mimetype": "text/x-python",
   "name": "python",
   "nbconvert_exporter": "python",
   "pygments_lexer": "ipython3",
   "version": "3.9.7"
  }
 },
 "nbformat": 4,
 "nbformat_minor": 5
}

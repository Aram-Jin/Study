{
 "cells": [
  {
   "cell_type": "code",
   "execution_count": 1,
   "id": "aaa422bb",
   "metadata": {},
   "outputs": [],
   "source": [
    "import hashlib"
   ]
  },
  {
   "cell_type": "code",
   "execution_count": null,
   "id": "e9294bee",
   "metadata": {},
   "outputs": [],
   "source": []
  },
  {
   "cell_type": "code",
   "execution_count": 10,
   "id": "e3617dee",
   "metadata": {},
   "outputs": [],
   "source": [
    "h = hashlib.sha256()  # 복원이 현실적으로 불가능한 알고리즘"
   ]
  },
  {
   "cell_type": "code",
   "execution_count": 11,
   "id": "c4c1b78c",
   "metadata": {},
   "outputs": [],
   "source": [
    "h.update(b'Genesis')  # 문자열을 입력시 binary형식으로 입력.."
   ]
  },
  {
   "cell_type": "code",
   "execution_count": 12,
   "id": "850de812",
   "metadata": {},
   "outputs": [
    {
     "name": "stdout",
     "output_type": "stream",
     "text": [
      "81ddc8d248b2dccdd3fdd5e84f0cad62b08f2d10b57f9a831c13451e5c5c80a5\n"
     ]
    }
   ],
   "source": [
    "print(h.hexdigest())"
   ]
  },
  {
   "cell_type": "code",
   "execution_count": null,
   "id": "b446b236",
   "metadata": {},
   "outputs": [],
   "source": []
  },
  {
   "cell_type": "code",
   "execution_count": 13,
   "id": "12f11345",
   "metadata": {},
   "outputs": [],
   "source": [
    "h.update(b'Genesiss')  # ascii, 입력값이 조금만 달라도 전혀 다른 hash값이 출력된다.."
   ]
  },
  {
   "cell_type": "code",
   "execution_count": 14,
   "id": "83d52486",
   "metadata": {},
   "outputs": [
    {
     "name": "stdout",
     "output_type": "stream",
     "text": [
      "92b046d301d2e1124aae087b9cd0e7abf5fdcbcfd13cc5e120cc0d629e3d2fb8\n"
     ]
    }
   ],
   "source": [
    "print(h.hexdigest())"
   ]
  },
  {
   "cell_type": "code",
   "execution_count": null,
   "id": "1ad5e8a1",
   "metadata": {},
   "outputs": [],
   "source": []
  },
  {
   "cell_type": "code",
   "execution_count": 15,
   "id": "bef3d376",
   "metadata": {},
   "outputs": [
    {
     "name": "stdout",
     "output_type": "stream",
     "text": [
      "5cf934daa11eb814ec253cab3e9039514822cc4bc149ff60f968a231af48a19b\n"
     ]
    }
   ],
   "source": [
    "h.update('Genesis'.encode())  # utf8\n",
    "print(h.hexdigest())"
   ]
  },
  {
   "cell_type": "code",
   "execution_count": null,
   "id": "252e8738",
   "metadata": {},
   "outputs": [],
   "source": []
  },
  {
   "cell_type": "code",
   "execution_count": 16,
   "id": "6a641ae2",
   "metadata": {},
   "outputs": [],
   "source": [
    "str1 = '이름'\n",
    "str2 = '생년월일'"
   ]
  },
  {
   "cell_type": "code",
   "execution_count": 18,
   "id": "85d24f16",
   "metadata": {},
   "outputs": [
    {
     "data": {
      "text/plain": [
       "'253d1510caf5362045ce50b1bdc33758fc4b3fd6ddc552d8dc0619784bd9c7d1'"
      ]
     },
     "execution_count": 18,
     "metadata": {},
     "output_type": "execute_result"
    }
   ],
   "source": [
    "h = hashlib.sha256()\n",
    "h.update(str1.encode('utf8'))\n",
    "h.hexdigest()"
   ]
  },
  {
   "cell_type": "code",
   "execution_count": null,
   "id": "b2e7c8fb",
   "metadata": {},
   "outputs": [],
   "source": []
  },
  {
   "cell_type": "code",
   "execution_count": 8,
   "id": "b003962e",
   "metadata": {},
   "outputs": [],
   "source": [
    "# 헤시함수 직접 만들기\n",
    "\n",
    "def get_hashv(key):\n",
    "    hashv = 0\n",
    "    for char in key:\n",
    "#         print(ord(char))\n",
    "        hashv += ord(char)\n",
    "#         print(hashv)\n",
    "    hashv = hashv*3\n",
    "        \n",
    "    return hashv%10000"
   ]
  },
  {
   "cell_type": "code",
   "execution_count": 9,
   "id": "6360b5ab",
   "metadata": {},
   "outputs": [
    {
     "data": {
      "text/plain": [
       "4059"
      ]
     },
     "execution_count": 9,
     "metadata": {},
     "output_type": "execute_result"
    }
   ],
   "source": [
    "get_hashv('python is fun!!')"
   ]
  },
  {
   "cell_type": "code",
   "execution_count": 10,
   "id": "4e3730a2",
   "metadata": {},
   "outputs": [
    {
     "data": {
      "text/plain": [
       "3714"
      ]
     },
     "execution_count": 10,
     "metadata": {},
     "output_type": "execute_result"
    }
   ],
   "source": [
    "get_hashv('hello python')"
   ]
  },
  {
   "cell_type": "code",
   "execution_count": null,
   "id": "c9c8bbf9",
   "metadata": {},
   "outputs": [],
   "source": []
  },
  {
   "cell_type": "code",
   "execution_count": null,
   "id": "039d7d62",
   "metadata": {},
   "outputs": [],
   "source": [
    "# 해싱이란\n",
    "# 원본 문자열을 알아볼 수 없는 난해한 문자열로 정의하는 방법으로 \n",
    "# 데이터의 변조의 유무를 확인하는 것이 주 목적이다.."
   ]
  },
  {
   "cell_type": "code",
   "execution_count": null,
   "id": "c82ca296",
   "metadata": {},
   "outputs": [],
   "source": []
  },
  {
   "cell_type": "code",
   "execution_count": null,
   "id": "422b0b50",
   "metadata": {},
   "outputs": [],
   "source": [
    "# 예제\n",
    "\n",
    "# 입력한 비밀번호를 passwd.txt 파일에 저장하는 프로그램을 작성..\n",
    "# 단 비밀번호는 해싱하여 저장해야 한다. 그리고 이미 저장된 비밀번호 파일이\n",
    "# 있는 경우 기존 비밀번호를 입력받아서 비밀번호가 일치할 경우에 \n",
    "# 새로운 비밀번호를 저장하는 코드를 작성하시오.."
   ]
  },
  {
   "cell_type": "code",
   "execution_count": 12,
   "id": "f3e2c7d7",
   "metadata": {},
   "outputs": [],
   "source": [
    "import hashlib\n",
    "import os\n",
    "\n",
    "def save_passwd():\n",
    "    with open('passwd.txt', 'w') as f:\n",
    "        passwd = input('패스워드를 입력하세요')\n",
    "        result = hashlib.sha256(passwd.encode())\n",
    "        f.write(result.hexdigest())"
   ]
  },
  {
   "cell_type": "code",
   "execution_count": 13,
   "id": "caebcb5c",
   "metadata": {},
   "outputs": [
    {
     "name": "stdout",
     "output_type": "stream",
     "text": [
      "패스워드를 입력하세요1234\n"
     ]
    }
   ],
   "source": [
    "save_passwd()"
   ]
  },
  {
   "cell_type": "code",
   "execution_count": 14,
   "id": "027eeddd",
   "metadata": {},
   "outputs": [
    {
     "data": {
      "text/plain": [
       "'D:\\\\a_blockchain'"
      ]
     },
     "execution_count": 14,
     "metadata": {},
     "output_type": "execute_result"
    }
   ],
   "source": [
    "pwd"
   ]
  },
  {
   "cell_type": "code",
   "execution_count": null,
   "id": "deb8745d",
   "metadata": {},
   "outputs": [],
   "source": []
  },
  {
   "cell_type": "code",
   "execution_count": 18,
   "id": "4d508503",
   "metadata": {},
   "outputs": [],
   "source": [
    "def check_passwd():\n",
    "    if os.path.exists('passwd.txt'):\n",
    "        before_passwd = input('기존의 비밀번호를 입력하세요')\n",
    "        m = hashlib.sha256()\n",
    "        m.update(before_passwd.encode('utf-8'))\n",
    "        with open('passwd.txt', 'r') as f:\n",
    "            comp = str(m.hexdigest()).strip() == str(f.read()).strip()\n",
    "            return comp\n",
    "    else:\n",
    "        return True"
   ]
  },
  {
   "cell_type": "code",
   "execution_count": 20,
   "id": "7c4c0c7e",
   "metadata": {},
   "outputs": [
    {
     "name": "stdout",
     "output_type": "stream",
     "text": [
      "기존의 비밀번호를 입력하세요2345\n"
     ]
    },
    {
     "data": {
      "text/plain": [
       "False"
      ]
     },
     "execution_count": 20,
     "metadata": {},
     "output_type": "execute_result"
    }
   ],
   "source": [
    "check_passwd()"
   ]
  },
  {
   "cell_type": "code",
   "execution_count": null,
   "id": "09be7820",
   "metadata": {},
   "outputs": [],
   "source": []
  },
  {
   "cell_type": "code",
   "execution_count": 21,
   "id": "4e9cd273",
   "metadata": {},
   "outputs": [],
   "source": [
    "def change_passwd():\n",
    "    if check_passwd():\n",
    "        with open('passwd.txt', 'w') as f:\n",
    "            passwd = input('새로운 비밀번호를 입력하세요')\n",
    "            result = hashlib.sha256(passwd.encode())\n",
    "            f.write(result.hexdigest())            \n",
    "    else:\n",
    "        print('비밀번호가 틀립니다')"
   ]
  },
  {
   "cell_type": "code",
   "execution_count": 25,
   "id": "be5dc6ac",
   "metadata": {},
   "outputs": [
    {
     "name": "stdout",
     "output_type": "stream",
     "text": [
      "기존의 비밀번호를 입력하세요2345\n",
      "새로운 비밀번호를 입력하세요1234\n"
     ]
    }
   ],
   "source": [
    "change_passwd()"
   ]
  },
  {
   "cell_type": "code",
   "execution_count": null,
   "id": "2c011f52",
   "metadata": {},
   "outputs": [],
   "source": []
  },
  {
   "cell_type": "code",
   "execution_count": null,
   "id": "2ff2dda3",
   "metadata": {},
   "outputs": [],
   "source": [
    "# 채굴 (minning)\n",
    "\n",
    "# 특정한 조건을 만족하는 hash값을  찾는 연산을 반복하는 것..\n",
    "# 채굴에 성공한 경우에만 블록에 채인에 연결이 됨..\n",
    "# 채굴에 성공하면 보상으로 코인을 받는다.."
   ]
  },
  {
   "cell_type": "code",
   "execution_count": 61,
   "id": "fb43db8d",
   "metadata": {},
   "outputs": [
    {
     "name": "stdout",
     "output_type": "stream",
     "text": [
      "Hash : 000006e2709bcb53374cf4770dba02c0a5ea8c90ac4c9c99c124f25d183c855e\n",
      "Nounce : 268731\n",
      "Mining took 0.5136475563049316s!\n"
     ]
    }
   ],
   "source": [
    "from hashlib import sha256\n",
    "import time\n",
    "\n",
    "max_nounce = int(1e10)\n",
    "difficulty = 5\n",
    "\n",
    "block_number = 667761\n",
    "transactions = '''\n",
    "A -> B : 10\n",
    "D -> A : 99\n",
    "C -> Z : 1\n",
    "'''\n",
    "previous_hash = '253d1510caf5362045ce50b1bdc33758fc4b3fd6ddc552d8dc0619784bd9c7d1'\n",
    "\n",
    "new_hash = None\n",
    "\n",
    "st_time = time.time()\n",
    "\n",
    "for nounce in range(max_nounce):\n",
    "    block = str(block_number) + transactions + previous_hash + str(nounce) \n",
    "    new_hash = sha256(block.encode('ascii')).hexdigest()\n",
    "    \n",
    "    if new_hash.startswith('0'*difficulty):  # '00000'로 시작하는 여부\n",
    "        print(f'Hash : {new_hash}')\n",
    "        print(f'Nounce : {nounce}')\n",
    "        break\n",
    "    \n",
    "# print(new_hash)\n",
    "if new_hash is None:\n",
    "    print('cannot find new hash')\n",
    "    \n",
    "print(f'Mining took {time.time() - st_time}s!')\n"
   ]
  },
  {
   "cell_type": "code",
   "execution_count": null,
   "id": "77a0cd16",
   "metadata": {},
   "outputs": [],
   "source": []
  },
  {
   "cell_type": "code",
   "execution_count": null,
   "id": "d3a4a8b2",
   "metadata": {},
   "outputs": [],
   "source": [
    "# class"
   ]
  },
  {
   "cell_type": "code",
   "execution_count": 75,
   "id": "5a32dc8e",
   "metadata": {},
   "outputs": [
    {
     "name": "stdout",
     "output_type": "stream",
     "text": [
      "********************\n",
      "Name : kimyuna\n",
      "Email : kimyuna@gmail.com\n",
      "Address : Seoul\n",
      "********************\n"
     ]
    }
   ],
   "source": [
    "# 명함을 찍는 코드..\n",
    "\n",
    "print('*'*20)\n",
    "print('Name : {}'.format('kimyuna'))\n",
    "print('Email : {}'.format('kimyuna@gmail.com'))\n",
    "print('Address : {}'.format('Seoul'))\n",
    "print('*'*20)"
   ]
  },
  {
   "cell_type": "code",
   "execution_count": 76,
   "id": "5639ef74",
   "metadata": {},
   "outputs": [],
   "source": [
    "def print_business_card():\n",
    "    print('*'*20)\n",
    "    print('Name : {}'.format('kimyuna'))\n",
    "    print('Email : {}'.format('kimyuna@gmail.com'))\n",
    "    print('Address : {}'.format('Seoul'))\n",
    "    print('*'*20)"
   ]
  },
  {
   "cell_type": "code",
   "execution_count": 77,
   "id": "8a40c766",
   "metadata": {},
   "outputs": [
    {
     "name": "stdout",
     "output_type": "stream",
     "text": [
      "********************\n",
      "Name : kimyuna\n",
      "Email : kimyuna@gmail.com\n",
      "Address : Seoul\n",
      "********************\n"
     ]
    }
   ],
   "source": [
    "print_business_card()"
   ]
  },
  {
   "cell_type": "code",
   "execution_count": 78,
   "id": "aefd4e62",
   "metadata": {},
   "outputs": [],
   "source": [
    "def print_business_card(name, email, address):\n",
    "    print('*'*20)\n",
    "    print('Name : {}'.format(name))\n",
    "    print('Email : {}'.format(email))\n",
    "    print('Address : {}'.format(address))\n",
    "    print('*'*20)"
   ]
  },
  {
   "cell_type": "code",
   "execution_count": 79,
   "id": "fb561435",
   "metadata": {},
   "outputs": [
    {
     "name": "stdout",
     "output_type": "stream",
     "text": [
      "********************\n",
      "Name : park\n",
      "Email : park@hanmail.net\n",
      "Address : Incheon\n",
      "********************\n"
     ]
    }
   ],
   "source": [
    "print_business_card('park', 'park@hanmail.net', 'Incheon')"
   ]
  },
  {
   "cell_type": "code",
   "execution_count": 80,
   "id": "1a95a716",
   "metadata": {},
   "outputs": [
    {
     "name": "stdout",
     "output_type": "stream",
     "text": [
      "********************\n",
      "Name : kimyuna\n",
      "Email : yuna@gmail.com\n",
      "Address : seoul\n",
      "********************\n"
     ]
    }
   ],
   "source": [
    "name='kimyuna'\n",
    "email = 'yuna@gmail.com'\n",
    "address = 'seoul'\n",
    "\n",
    "print_business_card(name, email, address)"
   ]
  },
  {
   "cell_type": "code",
   "execution_count": 82,
   "id": "09a58bb8",
   "metadata": {},
   "outputs": [],
   "source": [
    "class BusinessCard:\n",
    "    name='kimyuna'\n",
    "    email = 'yuna@gmail.com'\n",
    "    address = 'seoul'\n",
    "\n",
    "    def print_business_card(self):\n",
    "        print('*'*20)\n",
    "        print('Name : {}'.format(name))\n",
    "        print('Email : {}'.format(email))\n",
    "        print('Address : {}'.format(address))\n",
    "        print('*'*20)"
   ]
  },
  {
   "cell_type": "code",
   "execution_count": 83,
   "id": "0cdb7f99",
   "metadata": {},
   "outputs": [],
   "source": [
    "bc = BusinessCard()"
   ]
  },
  {
   "cell_type": "code",
   "execution_count": 84,
   "id": "17c9ccd6",
   "metadata": {},
   "outputs": [
    {
     "name": "stdout",
     "output_type": "stream",
     "text": [
      "********************\n",
      "Name : kimyuna\n",
      "Email : yuna@gmail.com\n",
      "Address : seoul\n",
      "********************\n"
     ]
    }
   ],
   "source": [
    "bc.print_business_card()"
   ]
  },
  {
   "cell_type": "code",
   "execution_count": 85,
   "id": "f5642111",
   "metadata": {},
   "outputs": [],
   "source": [
    "class BusinessCard:\n",
    "    def set_info(self, name, email, address):\n",
    "        self.name = name\n",
    "        self.email = email\n",
    "        self.address = address\n",
    "\n",
    "    def print_business_card(self):\n",
    "        print('*'*20)\n",
    "        print('Name : {}'.format(self.name))\n",
    "        print('Email : {}'.format(self.email))\n",
    "        print('Address : {}'.format(self.address))\n",
    "        print('*'*20)"
   ]
  },
  {
   "cell_type": "code",
   "execution_count": 86,
   "id": "55d82659",
   "metadata": {},
   "outputs": [],
   "source": [
    "bc = BusinessCard()"
   ]
  },
  {
   "cell_type": "code",
   "execution_count": 87,
   "id": "791a2714",
   "metadata": {},
   "outputs": [],
   "source": [
    "bc.set_info('kim', 'kim@gmail.com', 'seoul')"
   ]
  },
  {
   "cell_type": "code",
   "execution_count": 88,
   "id": "b3c4aa1a",
   "metadata": {},
   "outputs": [
    {
     "name": "stdout",
     "output_type": "stream",
     "text": [
      "********************\n",
      "Name : kim\n",
      "Email : kim@gmail.com\n",
      "Address : seoul\n",
      "********************\n"
     ]
    }
   ],
   "source": [
    "bc.print_business_card()"
   ]
  },
  {
   "cell_type": "code",
   "execution_count": null,
   "id": "4008fbd5",
   "metadata": {},
   "outputs": [],
   "source": []
  },
  {
   "cell_type": "code",
   "execution_count": 89,
   "id": "b90a9a76",
   "metadata": {},
   "outputs": [],
   "source": [
    "bc1 = BusinessCard()"
   ]
  },
  {
   "cell_type": "code",
   "execution_count": 91,
   "id": "32ca8d80",
   "metadata": {
    "collapsed": true
   },
   "outputs": [
    {
     "name": "stdout",
     "output_type": "stream",
     "text": [
      "********************\n"
     ]
    },
    {
     "ename": "AttributeError",
     "evalue": "'BusinessCard' object has no attribute 'name'",
     "output_type": "error",
     "traceback": [
      "\u001b[1;31m---------------------------------------------------------------------------\u001b[0m",
      "\u001b[1;31mAttributeError\u001b[0m                            Traceback (most recent call last)",
      "\u001b[1;32m~\\AppData\\Local\\Temp/ipykernel_11100/832627451.py\u001b[0m in \u001b[0;36m<module>\u001b[1;34m\u001b[0m\n\u001b[1;32m----> 1\u001b[1;33m \u001b[0mbc1\u001b[0m\u001b[1;33m.\u001b[0m\u001b[0mprint_business_card\u001b[0m\u001b[1;33m(\u001b[0m\u001b[1;33m)\u001b[0m  \u001b[1;31m# 인스턴스변수 self.name, self.email, self.addr의 값이 없음\u001b[0m\u001b[1;33m\u001b[0m\u001b[1;33m\u001b[0m\u001b[0m\n\u001b[0m",
      "\u001b[1;32m~\\AppData\\Local\\Temp/ipykernel_11100/1838950920.py\u001b[0m in \u001b[0;36mprint_business_card\u001b[1;34m(self)\u001b[0m\n\u001b[0;32m      7\u001b[0m     \u001b[1;32mdef\u001b[0m \u001b[0mprint_business_card\u001b[0m\u001b[1;33m(\u001b[0m\u001b[0mself\u001b[0m\u001b[1;33m)\u001b[0m\u001b[1;33m:\u001b[0m\u001b[1;33m\u001b[0m\u001b[1;33m\u001b[0m\u001b[0m\n\u001b[0;32m      8\u001b[0m         \u001b[0mprint\u001b[0m\u001b[1;33m(\u001b[0m\u001b[1;34m'*'\u001b[0m\u001b[1;33m*\u001b[0m\u001b[1;36m20\u001b[0m\u001b[1;33m)\u001b[0m\u001b[1;33m\u001b[0m\u001b[1;33m\u001b[0m\u001b[0m\n\u001b[1;32m----> 9\u001b[1;33m         \u001b[0mprint\u001b[0m\u001b[1;33m(\u001b[0m\u001b[1;34m'Name : {}'\u001b[0m\u001b[1;33m.\u001b[0m\u001b[0mformat\u001b[0m\u001b[1;33m(\u001b[0m\u001b[0mself\u001b[0m\u001b[1;33m.\u001b[0m\u001b[0mname\u001b[0m\u001b[1;33m)\u001b[0m\u001b[1;33m)\u001b[0m\u001b[1;33m\u001b[0m\u001b[1;33m\u001b[0m\u001b[0m\n\u001b[0m\u001b[0;32m     10\u001b[0m         \u001b[0mprint\u001b[0m\u001b[1;33m(\u001b[0m\u001b[1;34m'Email : {}'\u001b[0m\u001b[1;33m.\u001b[0m\u001b[0mformat\u001b[0m\u001b[1;33m(\u001b[0m\u001b[0mself\u001b[0m\u001b[1;33m.\u001b[0m\u001b[0memail\u001b[0m\u001b[1;33m)\u001b[0m\u001b[1;33m)\u001b[0m\u001b[1;33m\u001b[0m\u001b[1;33m\u001b[0m\u001b[0m\n\u001b[0;32m     11\u001b[0m         \u001b[0mprint\u001b[0m\u001b[1;33m(\u001b[0m\u001b[1;34m'Address : {}'\u001b[0m\u001b[1;33m.\u001b[0m\u001b[0mformat\u001b[0m\u001b[1;33m(\u001b[0m\u001b[0mself\u001b[0m\u001b[1;33m.\u001b[0m\u001b[0maddress\u001b[0m\u001b[1;33m)\u001b[0m\u001b[1;33m)\u001b[0m\u001b[1;33m\u001b[0m\u001b[1;33m\u001b[0m\u001b[0m\n",
      "\u001b[1;31mAttributeError\u001b[0m: 'BusinessCard' object has no attribute 'name'"
     ]
    }
   ],
   "source": [
    "bc1.print_business_card()  # 인스턴스변수 self.name, self.email, self.addr의 값이 없음"
   ]
  },
  {
   "cell_type": "code",
   "execution_count": null,
   "id": "217e0457",
   "metadata": {},
   "outputs": [],
   "source": []
  },
  {
   "cell_type": "code",
   "execution_count": 92,
   "id": "d826f4e9",
   "metadata": {},
   "outputs": [],
   "source": [
    "bc2 = BusinessCard()\n",
    "bc2.set_info('june', 'june@naver.com', 'usa')  \n",
    "# set_info가 먼저 실행되어 값을 받아야 함.."
   ]
  },
  {
   "cell_type": "code",
   "execution_count": 93,
   "id": "da9cb993",
   "metadata": {},
   "outputs": [
    {
     "name": "stdout",
     "output_type": "stream",
     "text": [
      "********************\n",
      "Name : june\n",
      "Email : june@naver.com\n",
      "Address : usa\n",
      "********************\n"
     ]
    }
   ],
   "source": [
    "bc2.print_business_card()"
   ]
  },
  {
   "cell_type": "code",
   "execution_count": null,
   "id": "92c83d6c",
   "metadata": {},
   "outputs": [],
   "source": []
  },
  {
   "cell_type": "code",
   "execution_count": null,
   "id": "e795d547",
   "metadata": {},
   "outputs": [],
   "source": [
    "# 객체를 생성하는 시점에서 강제로 값을 입력하도록...\n",
    "# => 객체(인스턴스)를 생성하는 시점에 강제로 set_info()함수를 호출..\n",
    "# => 생성자함수 : 객체가 생성되는 시점에 바로 호출되는 함수."
   ]
  },
  {
   "cell_type": "code",
   "execution_count": 94,
   "id": "565155f8",
   "metadata": {},
   "outputs": [],
   "source": [
    "class BusinessCard:\n",
    "    def __init__(self, name, email, address):  # 생성자함수..\n",
    "        self.name = name\n",
    "        self.email = email\n",
    "        self.address = address\n",
    "\n",
    "    def print_business_card(self):\n",
    "        print('*'*20)\n",
    "        print('Name : {}'.format(self.name))\n",
    "        print('Email : {}'.format(self.email))\n",
    "        print('Address : {}'.format(self.address))\n",
    "        print('*'*20)"
   ]
  },
  {
   "cell_type": "code",
   "execution_count": 95,
   "id": "17a2514d",
   "metadata": {
    "collapsed": true
   },
   "outputs": [
    {
     "ename": "TypeError",
     "evalue": "__init__() missing 3 required positional arguments: 'name', 'email', and 'address'",
     "output_type": "error",
     "traceback": [
      "\u001b[1;31m---------------------------------------------------------------------------\u001b[0m",
      "\u001b[1;31mTypeError\u001b[0m                                 Traceback (most recent call last)",
      "\u001b[1;32m~\\AppData\\Local\\Temp/ipykernel_11100/2198598189.py\u001b[0m in \u001b[0;36m<module>\u001b[1;34m\u001b[0m\n\u001b[1;32m----> 1\u001b[1;33m \u001b[0mbc\u001b[0m \u001b[1;33m=\u001b[0m \u001b[0mBusinessCard\u001b[0m\u001b[1;33m(\u001b[0m\u001b[1;33m)\u001b[0m\u001b[1;33m\u001b[0m\u001b[1;33m\u001b[0m\u001b[0m\n\u001b[0m",
      "\u001b[1;31mTypeError\u001b[0m: __init__() missing 3 required positional arguments: 'name', 'email', and 'address'"
     ]
    }
   ],
   "source": [
    "bc = BusinessCard()  # __init__함수에 매개변수를 전달하지 않음"
   ]
  },
  {
   "cell_type": "code",
   "execution_count": 96,
   "id": "f955bfbb",
   "metadata": {},
   "outputs": [],
   "source": [
    "bc = BusinessCard('park', 'park@hanmail.net', 'seoul')"
   ]
  },
  {
   "cell_type": "code",
   "execution_count": 97,
   "id": "ac4fe278",
   "metadata": {},
   "outputs": [
    {
     "name": "stdout",
     "output_type": "stream",
     "text": [
      "********************\n",
      "Name : park\n",
      "Email : park@hanmail.net\n",
      "Address : seoul\n",
      "********************\n"
     ]
    }
   ],
   "source": [
    "bc.print_business_card()"
   ]
  },
  {
   "cell_type": "code",
   "execution_count": null,
   "id": "81988795",
   "metadata": {},
   "outputs": [],
   "source": []
  },
  {
   "cell_type": "code",
   "execution_count": null,
   "id": "804d9d6d",
   "metadata": {},
   "outputs": [],
   "source": []
  },
  {
   "cell_type": "code",
   "execution_count": null,
   "id": "56d1e614",
   "metadata": {},
   "outputs": [],
   "source": []
  },
  {
   "cell_type": "code",
   "execution_count": 62,
   "id": "d6e5648f",
   "metadata": {},
   "outputs": [],
   "source": [
    "# chain 구성\n",
    "# transaction > block > 채굴 > chain 추가"
   ]
  },
  {
   "cell_type": "code",
   "execution_count": 66,
   "id": "fd001d67",
   "metadata": {},
   "outputs": [],
   "source": [
    "t1 = '호준 -> 길동, 1 코인'\n",
    "t2 = '길동 -> 춘향, 2 코인'\n",
    "t3 = '춘향 -> 준호, 3 코인'\n",
    "t4 = '호준 -> 길동, 1 코인'\n",
    "t5 = '길동 -> 춘향, 2 코인'\n",
    "t6 = '춘향 -> 준호, 3 코인'"
   ]
  },
  {
   "cell_type": "code",
   "execution_count": 67,
   "id": "95dfb2bb",
   "metadata": {},
   "outputs": [],
   "source": [
    "class bitCoin:\n",
    "    def __init__(self, 앞블록해쉬, 트랜젝션리스트):\n",
    "        self.앞블록해쉬 = 앞블록해쉬\n",
    "        self.트랜젝션리스트 = 트랜젝션리스트\n",
    "        self.블록 = '- 트렌젝션 :' + '\\n- 트렌젝션 : '.join(트랜젝션리스트) + \\\n",
    "        '\\n- 앞블록해쉬 :' + 앞블록해쉬\n",
    "        self.블록해쉬 = hashlib.sha256(self.블록.encode()).hexdigest()"
   ]
  },
  {
   "cell_type": "code",
   "execution_count": 65,
   "id": "e1779c47",
   "metadata": {},
   "outputs": [],
   "source": [
    "블록1 = bitCoin('random_initial_text', [t1, t2])"
   ]
  },
  {
   "cell_type": "code",
   "execution_count": 68,
   "id": "bd45fe57",
   "metadata": {},
   "outputs": [
    {
     "name": "stdout",
     "output_type": "stream",
     "text": [
      "- 트렌젝션 :호준 -> 길동, 1 코인\n",
      "- 트렌젝션 : 길동 -> 춘향, 2 코인\n",
      "- 앞블록해쉬 :random_initial_text\n"
     ]
    }
   ],
   "source": [
    "print(블록1.블록)"
   ]
  },
  {
   "cell_type": "code",
   "execution_count": 69,
   "id": "3f1466e0",
   "metadata": {},
   "outputs": [
    {
     "data": {
      "text/plain": [
       "'5ee2f0a3a6e267c40a982e7be35af8b9a915f034e37d86c266d4d79c08c32f8a'"
      ]
     },
     "execution_count": 69,
     "metadata": {},
     "output_type": "execute_result"
    }
   ],
   "source": [
    "블록1.블록해쉬"
   ]
  },
  {
   "cell_type": "code",
   "execution_count": null,
   "id": "8edf6764",
   "metadata": {},
   "outputs": [],
   "source": []
  },
  {
   "cell_type": "code",
   "execution_count": 98,
   "id": "b0ab1d47",
   "metadata": {},
   "outputs": [],
   "source": [
    "블록2 = bitCoin(블록1.블록해쉬, [t3, t4])"
   ]
  },
  {
   "cell_type": "code",
   "execution_count": 99,
   "id": "f885dcdb",
   "metadata": {},
   "outputs": [
    {
     "name": "stdout",
     "output_type": "stream",
     "text": [
      "- 트렌젝션 :춘향 -> 준호, 3 코인\n",
      "- 트렌젝션 : 호준 -> 길동, 1 코인\n",
      "- 앞블록해쉬 :5ee2f0a3a6e267c40a982e7be35af8b9a915f034e37d86c266d4d79c08c32f8a\n"
     ]
    }
   ],
   "source": [
    "print(블록2.블록)"
   ]
  },
  {
   "cell_type": "code",
   "execution_count": 100,
   "id": "0fc104c1",
   "metadata": {},
   "outputs": [
    {
     "data": {
      "text/plain": [
       "'5da26bd242542900a202a18c33a1f3c700f08f7418120787803eb0617630b4d0'"
      ]
     },
     "execution_count": 100,
     "metadata": {},
     "output_type": "execute_result"
    }
   ],
   "source": [
    "블록2.블록해쉬"
   ]
  },
  {
   "cell_type": "code",
   "execution_count": null,
   "id": "f9445641",
   "metadata": {},
   "outputs": [],
   "source": []
  },
  {
   "cell_type": "code",
   "execution_count": 101,
   "id": "f67107b1",
   "metadata": {},
   "outputs": [],
   "source": [
    "블록3 = bitCoin(블록2.블록해쉬, [t5, t6])"
   ]
  },
  {
   "cell_type": "code",
   "execution_count": 102,
   "id": "2b5fc210",
   "metadata": {},
   "outputs": [
    {
     "name": "stdout",
     "output_type": "stream",
     "text": [
      "- 트렌젝션 :길동 -> 춘향, 2 코인\n",
      "- 트렌젝션 : 춘향 -> 준호, 3 코인\n",
      "- 앞블록해쉬 :5da26bd242542900a202a18c33a1f3c700f08f7418120787803eb0617630b4d0\n"
     ]
    }
   ],
   "source": [
    "print(블록3.블록)"
   ]
  },
  {
   "cell_type": "code",
   "execution_count": 103,
   "id": "a6d375ab",
   "metadata": {},
   "outputs": [
    {
     "data": {
      "text/plain": [
       "'389b7519f46aa687f616753c812dcb336b3b1ffaad26f614960f79e1ef591926'"
      ]
     },
     "execution_count": 103,
     "metadata": {},
     "output_type": "execute_result"
    }
   ],
   "source": [
    "블록3.블록해쉬"
   ]
  },
  {
   "cell_type": "code",
   "execution_count": null,
   "id": "605482ac",
   "metadata": {},
   "outputs": [],
   "source": []
  },
  {
   "cell_type": "code",
   "execution_count": null,
   "id": "c2c6fb17",
   "metadata": {},
   "outputs": [],
   "source": [
    "# 블록1.해쉬 = hash(hash(블록0) + 블록1.트렌젝션리스트)\n",
    "\n",
    "# 블록2 = 블록1.해쉬 + 블록2.트렌젝션리스트\n",
    "# 블록2.해쉬 = hash(블록2)\n",
    "\n",
    "# 블록3 = 블록2.해쉬 + 블록3.트렌젝션리스트\n",
    "# 블록3.해쉬 = hash(블록3)"
   ]
  },
  {
   "cell_type": "code",
   "execution_count": null,
   "id": "940112db",
   "metadata": {},
   "outputs": [],
   "source": []
  },
  {
   "cell_type": "code",
   "execution_count": null,
   "id": "e7f7e80a",
   "metadata": {},
   "outputs": [],
   "source": []
  },
  {
   "cell_type": "code",
   "execution_count": null,
   "id": "a07cf95a",
   "metadata": {},
   "outputs": [],
   "source": []
  },
  {
   "cell_type": "code",
   "execution_count": null,
   "id": "2f78ae2d",
   "metadata": {},
   "outputs": [],
   "source": []
  }
 ],
 "metadata": {
  "kernelspec": {
   "display_name": "Python 3 (ipykernel)",
   "language": "python",
   "name": "python3"
  },
  "language_info": {
   "codemirror_mode": {
    "name": "ipython",
    "version": 3
   },
   "file_extension": ".py",
   "mimetype": "text/x-python",
   "name": "python",
   "nbconvert_exporter": "python",
   "pygments_lexer": "ipython3",
   "version": "3.9.7"
  }
 },
 "nbformat": 4,
 "nbformat_minor": 5
}

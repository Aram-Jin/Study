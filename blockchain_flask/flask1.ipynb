{
 "cells": [
  {
   "cell_type": "code",
   "execution_count": null,
   "id": "f0eb56f8",
   "metadata": {},
   "outputs": [],
   "source": [
    "# flask\n",
    "# 파이썬 기반 웹서버\n",
    "# 마이크로 프레임웍 -> 최소한의 기능만 제공해주고 나머지는 사용자가 알아서 만들어야함 ;flask \n",
    "# 풀 프레임웍 -> ;Django"
   ]
  },
  {
   "cell_type": "code",
   "execution_count": 1,
   "id": "1155184c",
   "metadata": {},
   "outputs": [
    {
     "name": "stdout",
     "output_type": "stream",
     "text": [
      "Requirement already satisfied: flask in c:\\programdata\\anaconda3\\envs\\tf270gpu\\lib\\site-packages (1.1.2)\n",
      "Requirement already satisfied: Werkzeug>=0.15 in c:\\programdata\\anaconda3\\envs\\tf270gpu\\lib\\site-packages (from flask) (2.0.2)\n",
      "Requirement already satisfied: click>=5.1 in c:\\programdata\\anaconda3\\envs\\tf270gpu\\lib\\site-packages (from flask) (8.0.3)\n",
      "Requirement already satisfied: Jinja2>=2.10.1 in c:\\programdata\\anaconda3\\envs\\tf270gpu\\lib\\site-packages (from flask) (2.11.3)\n",
      "Requirement already satisfied: itsdangerous>=0.24 in c:\\programdata\\anaconda3\\envs\\tf270gpu\\lib\\site-packages (from flask) (2.0.1)\n",
      "Requirement already satisfied: colorama in c:\\programdata\\anaconda3\\envs\\tf270gpu\\lib\\site-packages (from click>=5.1->flask) (0.4.4)\n",
      "Requirement already satisfied: MarkupSafe>=0.23 in c:\\programdata\\anaconda3\\envs\\tf270gpu\\lib\\site-packages (from Jinja2>=2.10.1->flask) (1.1.1)\n"
     ]
    }
   ],
   "source": [
    "!pip install flask"
   ]
  },
  {
   "cell_type": "code",
   "execution_count": 18,
   "id": "d321bc1a",
   "metadata": {},
   "outputs": [],
   "source": [
    "from flask import Flask"
   ]
  },
  {
   "cell_type": "code",
   "execution_count": 19,
   "id": "a8c53eb9",
   "metadata": {},
   "outputs": [],
   "source": [
    "app = Flask(__name__)"
   ]
  },
  {
   "cell_type": "code",
   "execution_count": 20,
   "id": "43d56780",
   "metadata": {},
   "outputs": [],
   "source": [
    "@app.route('/hello')\n",
    "def hello():\n",
    "    return \"<h1>Hello World!</h1>\""
   ]
  },
  {
   "cell_type": "code",
   "execution_count": 21,
   "id": "d867a4ef",
   "metadata": {},
   "outputs": [],
   "source": [
    "host_addr = '0.0.0.0'\n",
    "port_num = '8080'"
   ]
  },
  {
   "cell_type": "code",
   "execution_count": 22,
   "id": "f447cbe3",
   "metadata": {},
   "outputs": [
    {
     "name": "stdout",
     "output_type": "stream",
     "text": [
      " * Serving Flask app \"__main__\" (lazy loading)\n",
      " * Environment: production\n",
      "\u001b[31m   WARNING: This is a development server. Do not use it in a production deployment.\u001b[0m\n",
      "\u001b[2m   Use a production WSGI server instead.\u001b[0m\n",
      " * Debug mode: off\n"
     ]
    },
    {
     "name": "stderr",
     "output_type": "stream",
     "text": [
      " * Running on all addresses.\n",
      "   WARNING: This is a development server. Do not use it in a production deployment.\n",
      " * Running on http://192.168.0.90:8080/ (Press CTRL+C to quit)\n"
     ]
    }
   ],
   "source": [
    "if __name__ == \"__main__\":\n",
    "    app.run(host=host_addr, port=port_num)"
   ]
  },
  {
   "cell_type": "code",
   "execution_count": null,
   "id": "0b31346a",
   "metadata": {},
   "outputs": [],
   "source": [
    "#  http://192.168.0.90:8080/hello "
   ]
  },
  {
   "cell_type": "code",
   "execution_count": null,
   "id": "615ea49c",
   "metadata": {},
   "outputs": [],
   "source": []
  },
  {
   "cell_type": "code",
   "execution_count": 23,
   "id": "32e02732",
   "metadata": {
    "scrolled": true
   },
   "outputs": [
    {
     "name": "stdout",
     "output_type": "stream",
     "text": [
      " * Serving Flask app \"__main__\" (lazy loading)\n",
      " * Environment: production\n",
      "\u001b[31m   WARNING: This is a development server. Do not use it in a production deployment.\u001b[0m\n",
      "\u001b[2m   Use a production WSGI server instead.\u001b[0m\n",
      " * Debug mode: off\n"
     ]
    },
    {
     "name": "stderr",
     "output_type": "stream",
     "text": [
      " * Running on all addresses.\n",
      "   WARNING: This is a development server. Do not use it in a production deployment.\n",
      " * Running on http://192.168.0.90:8080/ (Press CTRL+C to quit)\n",
      "192.168.0.90 - - [10/Jan/2022 15:44:29] \"GET / HTTP/1.1\" 200 -\n"
     ]
    }
   ],
   "source": [
    "app = Flask(__name__)\n",
    "\n",
    "@app.route('/')\n",
    "def hello():\n",
    "    return \"<h1>Hello world!<h1>\"\n",
    "\n",
    "@app.route('/hello')\n",
    "def hello_flask():\n",
    "    return \"<h1>Hello Flask!</h1>\"\n",
    "\n",
    "@app.route('/first')\n",
    "def hello_first():\n",
    "    return \"<h1>Hello first</h1>\"\n",
    "\n",
    "if __name__ == \"__main__\":\n",
    "    app.run(host='0.0.0.0', port='8080')\n",
    "\n"
   ]
  },
  {
   "cell_type": "code",
   "execution_count": null,
   "id": "81646bd4",
   "metadata": {},
   "outputs": [],
   "source": [
    "# http://192.168.0.90:8080/ "
   ]
  },
  {
   "cell_type": "code",
   "execution_count": null,
   "id": "9d44da86",
   "metadata": {},
   "outputs": [],
   "source": []
  },
  {
   "cell_type": "code",
   "execution_count": 26,
   "id": "59868d31",
   "metadata": {},
   "outputs": [
    {
     "name": "stdout",
     "output_type": "stream",
     "text": [
      " * Serving Flask app \"__main__\" (lazy loading)\n",
      " * Environment: production\n",
      "\u001b[31m   WARNING: This is a development server. Do not use it in a production deployment.\u001b[0m\n",
      "\u001b[2m   Use a production WSGI server instead.\u001b[0m\n",
      " * Debug mode: off\n"
     ]
    },
    {
     "name": "stderr",
     "output_type": "stream",
     "text": [
      " * Running on all addresses.\n",
      "   WARNING: This is a development server. Do not use it in a production deployment.\n",
      " * Running on http://192.168.0.90:8080/ (Press CTRL+C to quit)\n",
      "192.168.0.90 - - [10/Jan/2022 15:46:32] \"GET / HTTP/1.1\" 200 -\n",
      "192.168.0.90 - - [10/Jan/2022 15:46:40] \"GET /first/jin HTTP/1.1\" 200 -\n"
     ]
    }
   ],
   "source": [
    "app = Flask(__name__)\n",
    "\n",
    "@app.route('/')\n",
    "def hello():\n",
    "    return \"<h1>Hello world!</h1>\"\n",
    "\n",
    "@app.route('/profile/<username>')\n",
    "def get_profile(username):\n",
    "    return \"profile : \" + username\n",
    "    \n",
    "@app.route('/first/<username>')\n",
    "def get_first(username):\n",
    "    return \"<h3>Hello \" + username + \"!<h3>\"\n",
    "\n",
    "if __name__ == \"__main__\":\n",
    "    app.run(host='0.0.0.0', port='8080')"
   ]
  },
  {
   "cell_type": "code",
   "execution_count": null,
   "id": "a39e367e",
   "metadata": {},
   "outputs": [],
   "source": []
  },
  {
   "cell_type": "code",
   "execution_count": null,
   "id": "cf3d7dcf",
   "metadata": {},
   "outputs": [],
   "source": [
    "# rest api  -> 데이터를 리턴해줌"
   ]
  },
  {
   "cell_type": "code",
   "execution_count": 32,
   "id": "018536a7",
   "metadata": {},
   "outputs": [
    {
     "ename": "IndentationError",
     "evalue": "unexpected indent (Temp/ipykernel_27920/345580544.py, line 12)",
     "output_type": "error",
     "traceback": [
      "\u001b[1;36m  File \u001b[1;32m\"C:\\Users\\bitcamp\\AppData\\Local\\Temp/ipykernel_27920/345580544.py\"\u001b[1;36m, line \u001b[1;32m12\u001b[0m\n\u001b[1;33m    return jsonify(data)\u001b[0m\n\u001b[1;37m    ^\u001b[0m\n\u001b[1;31mIndentationError\u001b[0m\u001b[1;31m:\u001b[0m unexpected indent\n"
     ]
    }
   ],
   "source": [
    "from flask import Flask, jsonify\n",
    "app = Flask(__name__)\n",
    "\n",
    "@app.route('/json_test')\n",
    "def hello_json():\n",
    "    data = {'name':'김대리', 'family':'Byun'}\n",
    "    return jsonify(data)\n",
    "\n",
    "@app.route('/server_info')\n",
    "def sever_json():\n",
    "    data = {'sever_name' : '0.0.0.0', 'sever_port':'8080'}\n",
    "     return jsonify(data)\n",
    "    \n",
    "if __name__ ==\"__main__\":\n",
    "    app.run(host='0.0.0.0', port='8080')"
   ]
  },
  {
   "cell_type": "code",
   "execution_count": null,
   "id": "e016c38e",
   "metadata": {},
   "outputs": [],
   "source": []
  },
  {
   "cell_type": "code",
   "execution_count": null,
   "id": "54768c88",
   "metadata": {},
   "outputs": [],
   "source": [
    "#jinja template\n",
    "# html 안에서 python code를 사용하는 템플릿\n",
    "\n",
    "# {{변수명}}\n",
    "# {% 파이썬 소스코드 %}"
   ]
  },
  {
   "cell_type": "code",
   "execution_count": null,
   "id": "a1934cf7",
   "metadata": {},
   "outputs": [],
   "source": []
  }
 ],
 "metadata": {
  "kernelspec": {
   "display_name": "Python 3 (ipykernel)",
   "language": "python",
   "name": "python3"
  },
  "language_info": {
   "codemirror_mode": {
    "name": "ipython",
    "version": 3
   },
   "file_extension": ".py",
   "mimetype": "text/x-python",
   "name": "python",
   "nbconvert_exporter": "python",
   "pygments_lexer": "ipython3",
   "version": "3.9.7"
  }
 },
 "nbformat": 4,
 "nbformat_minor": 5
}
